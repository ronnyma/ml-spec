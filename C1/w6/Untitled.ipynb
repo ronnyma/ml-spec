{
 "cells": [
  {
   "cell_type": "code",
   "execution_count": 1,
   "metadata": {
    "collapsed": true
   },
   "outputs": [],
   "source": [
    "g = {'dog-automobile': 42.3025826355744,\n",
    " 'dog-bird': 50.511235378316556,\n",
    " 'dog-cat': 37.46426287842384,\n",
    " 'dog-dog': 33.47735903726335}"
   ]
  },
  {
   "cell_type": "code",
   "execution_count": 2,
   "metadata": {
    "collapsed": false
   },
   "outputs": [
    {
     "data": {
      "text/plain": [
       "{'dog-automobile': 42.3025826355744,\n",
       " 'dog-bird': 50.511235378316556,\n",
       " 'dog-cat': 37.46426287842384,\n",
       " 'dog-dog': 33.47735903726335}"
      ]
     },
     "execution_count": 2,
     "metadata": {},
     "output_type": "execute_result"
    }
   ],
   "source": [
    "g\n"
   ]
  },
  {
   "cell_type": "code",
   "execution_count": 6,
   "metadata": {
    "collapsed": false
   },
   "outputs": [
    {
     "name": "stdout",
     "output_type": "stream",
     "text": [
      "dog-dog\n"
     ]
    }
   ],
   "source": [
    "tmp = 1000\n",
    "for i in g.keys():\n",
    "    if g[i] < tmp:\n",
    "        tmp = g[i]\n",
    "        cat = i\n",
    "print cat\n",
    "        "
   ]
  },
  {
   "cell_type": "code",
   "execution_count": null,
   "metadata": {
    "collapsed": true
   },
   "outputs": [],
   "source": []
  }
 ],
 "metadata": {
  "kernelspec": {
   "display_name": "Python 2",
   "language": "python",
   "name": "python2"
  },
  "language_info": {
   "codemirror_mode": {
    "name": "ipython",
    "version": 2
   },
   "file_extension": ".py",
   "mimetype": "text/x-python",
   "name": "python",
   "nbconvert_exporter": "python",
   "pygments_lexer": "ipython2",
   "version": "2.7.11"
  }
 },
 "nbformat": 4,
 "nbformat_minor": 0
}
